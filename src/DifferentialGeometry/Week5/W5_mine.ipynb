{
 "cells": [
  {
   "cell_type": "markdown",
   "metadata": {},
   "source": [
    "# Theoretical exercises\n",
    "\n",
    "For the theoretical exercises, please refer to the solutions, as these were solved by hand.\n",
    "\n",
    "--------------------------------------------"
   ]
  },
  {
   "cell_type": "markdown",
   "metadata": {},
   "source": [
    "# Programming exercises\n",
    "\n",
    "### 5.4 -   Consider the curve $c:[0, 1] \\rightarrow \\mathbb{R}^2$ defined by Eq. $17$\n",
    "1. Write a computer program that evaluates the length of the curve $c$ using Eq. $4.2$ in the DGGM book.\n",
    "2. If you have completed exercise $5.3$ in the theoretical part, then:\n",
    "    - $(a)$ Did the numerical and analytical results agree?\n",
    "    - $(b)$ Use the analytic expression for $||\\hat{c}_t||$ in a script that evaluates the length of the curve using Eq. $4.5$ in the DGGM book. Note, you need top approximate the integral with a sum.\n"
   ]
  },
  {
   "cell_type": "markdown",
   "metadata": {},
   "source": [
    "# 5.5   -   Consider the Bernoulli VAE from Week 2. Train this with a two-dimensional latent space (for ease of plotting).\n",
    "1.  Write a script that evaluates the length of any second-order polynomial curve $c$ using Eq. 4.2 from the DGGM book. It is recommended you write the code to support **any** callable curve $c$!"
   ]
  }
 ],
 "metadata": {
  "language_info": {
   "name": "python"
  }
 },
 "nbformat": 4,
 "nbformat_minor": 2
}
