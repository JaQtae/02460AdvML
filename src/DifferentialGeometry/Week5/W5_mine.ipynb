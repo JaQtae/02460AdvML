{
 "cells": [
  {
   "cell_type": "markdown",
   "metadata": {},
   "source": [
    "# Theoretical exercises\n",
    "\n",
    "For the theoretical exercises, please refer to the solutions, as these were solved by hand.\n",
    "\n",
    "--------------------------------------------"
   ]
  },
  {
   "cell_type": "markdown",
   "metadata": {},
   "source": [
    "# Programming exercises\n",
    "\n",
    "### 5.4 -   Consider the curve $c:[0, 1] \\rightarrow \\mathbb{R}^2$ defined by Eq. $17$\n",
    "1. Write a computer program that evaluates the length of the curve $c$ using Eq. $4.2$ in the DGGM book.\n",
    "2. If you have completed exercise $5.3$ in the theoretical part, then:\n",
    "    - $(a)$ Did the numerical and analytical results agree?\n",
    "    - $(b)$ Use the analytic expression for $||\\hat{c}_t||$ in a script that evaluates the length of the curve using Eq. $4.5$ in the DGGM book. Note, you need to approximate the integral with a sum.\n"
   ]
  },
  {
   "cell_type": "markdown",
   "metadata": {},
   "source": [
    "# 5.5   -   Consider the Bernoulli VAE from Week 2. Train this with a two-dimensional latent space (for ease of plotting).\n",
    "1.  Write a script that evaluates the length of any second-order polynomial curve $c$ using Eq. 4.2 from the DGGM book. It is recommended you write the code to support **any** callable curve $c$!"
   ]
  },
  {
   "cell_type": "code",
   "execution_count": 24,
   "metadata": {},
   "outputs": [
    {
     "name": "stdout",
     "output_type": "stream",
     "text": [
      "Length of the curve c\n",
      "==============================\n",
      "Theoretical:\t\t 2.295587149392638\n",
      "Eq. (4.2) approx.:\t 2.2955870904670688\n",
      "Eq. (4.5) approx.:\t 2.2955870904670688\n"
     ]
    }
   ],
   "source": [
    "import numpy as np\n",
    "\n",
    "def get_curve(t):\n",
    "    ct = np.array([2*t + 1, -t**2])\n",
    "    return ct\n",
    "\n",
    "\n",
    "def get_curve_length(c, interval=(0,1), N=1000, equation='4.5'):\n",
    "    t = np.linspace(interval[0], interval[1], N+1)\n",
    "    length = 0.0\n",
    "    \n",
    "    for i in range(N):\n",
    "        t1, t2 = t[i], t[i+1]\n",
    "        \n",
    "        if equation == '4.5':\n",
    "            dt = np.abs(t2 - t1)\n",
    "            segment_length = np.linalg.norm((c(t1) - c(t2)) / dt) * dt\n",
    "            \n",
    "        elif equation == '4.2':\n",
    "            segment_length = np.linalg.norm(c(t1) - c(t2))\n",
    "        else:\n",
    "            raise ValueError(\"Equation has to be '4.5' or '4.2'\")\n",
    "        \n",
    "        length += segment_length\n",
    "\n",
    "    return length\n",
    "\n",
    "curve_length_42 = get_curve_length(get_curve, equation='4.2')\n",
    "curve_length_45 = get_curve_length(get_curve, equation='4.5')\n",
    "print(f\"Length of the curve c\\n{'==='*10}\")\n",
    "print(\"Theoretical:\\t\\t\", np.sqrt(2)+np.log(1+np.sqrt(2)))\n",
    "print(\"Eq. (4.2) approx.:\\t\", curve_length_42)\n",
    "print(\"Eq. (4.5) approx.:\\t\", curve_length_45)"
   ]
  }
 ],
 "metadata": {
  "kernelspec": {
   "display_name": ".venv",
   "language": "python",
   "name": "python3"
  },
  "language_info": {
   "codemirror_mode": {
    "name": "ipython",
    "version": 3
   },
   "file_extension": ".py",
   "mimetype": "text/x-python",
   "name": "python",
   "nbconvert_exporter": "python",
   "pygments_lexer": "ipython3",
   "version": "3.11.5"
  }
 },
 "nbformat": 4,
 "nbformat_minor": 2
}
